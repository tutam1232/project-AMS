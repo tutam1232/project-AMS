{
 "cells": [
  {
   "cell_type": "markdown",
   "id": "a3bf0544",
   "metadata": {},
   "source": [
    "Họ tên: Đàm Tử Tâm\\\n",
    "MSSV: 21120551\\\n",
    "Lớp: 21_2 (chính quy)\\\n",
    "Môn: Toán ứng dụng & thống kê\n",
    "\n",
    "## Đồ án 4:  Diagonalizable matrix\n",
    "\n",
    "1) Cho A là ma trận có thể chéo hóa được. Sinh viên viết chương trình tìm ma trận chéo $P$, $P^{-1}$ và ma trận đường chéo $D$, biết rằng $A = PDP^{-1}$\\\n",
    "Lưu ý: sinh viên phải sử dụng thuật toán chéo hóa đã được hướng dẫn trong phần bài tập.\\\n",
    "Sinh viên không được dùng các hàm có sẵn của các thư viện để chéo hóa.\n",
    "\n",
    "2) Mở rộng:\n",
    "- Tìm hiểu các hàm/ phương thức tương ứng của các thư viện và thực hiện nó, so sánh kết quả.\n",
    "- Tìm hiểu và trình bày ứng dụng của chéo hóa.\n",
    "#### Quy định bài nộp\n",
    "- Thực hiện toàn bộ bài làm trên 1 tập tin Jupyter Notebook (.ipynb)\n",
    "- Đầu bài phải có phần trình bày thông tin sinh viên và giải thuật.\n",
    "- Cuối bài phải có phần mô tả ý tưởng thực hiện và mô tả các hàm\n",
    "#### Quy định chấm bài\n",
    "Những trường hợp sau đây sẽ bị 0 điểm toàn bộ đồ án:\n",
    "- Nộp sai quy định bài nộp\n",
    "- Thực thi mã nguồn báo lỗi\\\n",
    "LƯU Ý: SAO CHÉP BÀI LÀM CỦA NHAU SẼ BỊ 0 ĐIỂM TOÀN BỘ PHẦN THỰC HÀNH"
   ]
  },
  {
   "cell_type": "markdown",
   "id": "7241feb9",
   "metadata": {},
   "source": [
    "## Giải thuật:  Diagonalizable matrix\n",
    "\n",
    "- **Bước 1:** Tìm đa thức đặc trưng $det(A − λI)$. Nếu $P_A(λ)$ có tổng các lũy thừa khác $n$ thì $A$ không chéo hóa được và thuật toán kết thúc, ngược lại chuyển sang **Bước 2**.\n",
    "- **Bước 2:** Tìm tất cả các nghiệm $λ_i$ của phương trình đa thức đặc trưng. Với mỗi trị riêng $λ_i$ tìm cơ sở và số chiều cho không gian nghiệm phương trình $(A − λI_n) X = 0$. Nếu mỗi $λ_i$ số chiều không gian nghiệm nhỏ hơn lũy thừa của $λ_i$ trong đa thức đặc trưng thì $A$ không chéo hóa được và thuật toán kết thúc, ngược lại chuyển sang **Bước 3**.\n",
    "- **Bước 3:** Với các vector trong cơ sở không gian nghiệm tìm được ở bước 2, ta đặt ma trận $P$ là ma trận có được bằng cách dựng các vector thành các cột. Khi đó ma trận $P$ làm chéo $A$ và $D = P^{−1}AP$ là ma trận đường chéo. $diag(λ_1, . . . , λ_r)$\n"
   ]
  },
  {
   "cell_type": "code",
   "execution_count": 1,
   "id": "59b45995",
   "metadata": {},
   "outputs": [
    {
     "name": "stdout",
     "output_type": "stream",
     "text": [
      "----- test case 0 -----\n",
      "A:\n",
      "[1, -1, -1]\n",
      "[1, 3, 1]\n",
      "[-3, 1, -1]\n",
      "\n",
      "\n",
      "P:\n",
      "[1/4, -1, -1]\n",
      "[-1/4, 0, 1]\n",
      "[1, 1, 1]\n",
      "\n",
      "\n",
      "D:\n",
      "[-2.00, 0, 0]\n",
      "[0, 2, 0]\n",
      "[0, 0, 3.00]\n",
      "\n",
      "\n",
      "P^(-1):\n",
      "[0.800, 0, 0.800]\n",
      "[-1, -1, 0]\n",
      "[1/5, 1, 1/5]\n",
      "\n",
      "\n",
      "P*D*P^(-1) = A:\n",
      "[1.00, -1.00, -1.00]\n",
      "[1.00, 3.00, 1.00]\n",
      "[-3.00, 1.00, -1.00]\n",
      "\n",
      "\n",
      "----- test case 1 -----\n",
      "A:\n",
      "[1, -3, 3]\n",
      "[3, -5, 3]\n",
      "[6, -6, 4]\n",
      "\n",
      "\n",
      "P:\n",
      "[1, -1, 1/2]\n",
      "[1, 0, 1/2]\n",
      "[0, 1, 1]\n",
      "\n",
      "\n",
      "D:\n",
      "[-2.00, 0, 0]\n",
      "[0, -2, 0]\n",
      "[0, 0, 4]\n",
      "\n",
      "\n",
      "P^(-1):\n",
      "[-0.500, 1.50, -0.500]\n",
      "[-1, 1, 0]\n",
      "[1, -1, 1]\n",
      "\n",
      "\n",
      "P*D*P^(-1) = A:\n",
      "[1.00, -3.00, 3.00]\n",
      "[3.00, -5.00, 3.00]\n",
      "[6, -6, 4]\n",
      "\n",
      "\n",
      "----- test case 2 -----\n",
      "A:\n",
      "[3, 3, 2]\n",
      "[1, 1, -2]\n",
      "[-3, -1, 0]\n",
      "\n",
      "\n",
      "Khong the cheo hoa ma tran\n"
     ]
    }
   ],
   "source": [
    "import copy\n",
    "import sympy as sp\n",
    "\n",
    "def print_matrix(A):\n",
    "    if A==None:\n",
    "        print('\\n')\n",
    "    else:\n",
    "        for i in range(len(A)):\n",
    "            print(A[i])\n",
    "        print('\\n')\n",
    "def create_identity_matrix(n):\n",
    "    A=[]\n",
    "    for i in range(0,n):\n",
    "        temp=[]\n",
    "        for j in range(0,n):\n",
    "            if(i==j):\n",
    "                temp.append(1)\n",
    "            else:\n",
    "                temp.append(0)            \n",
    "        A.append(temp)\n",
    "    return A\n",
    "def inverse(A):\n",
    "    \n",
    "    #kiem tra neu ma tran A input khong hop le\n",
    "    for i in range(0,len(A)):\n",
    "        if len(A) != len(A[i]):\n",
    "            print(\"Ma tran input khong vuong, khong the tim ma tran nghich dao!\")\n",
    "            return\n",
    "    \n",
    "    #tao ma tran In\n",
    "    B=create_identity_matrix(len(A))\n",
    "        \n",
    "    \n",
    "    flag=True\n",
    "    k=0\n",
    "    j=0\n",
    "    \n",
    "    ##duyet tung cot\n",
    "    for i in range(0,len(A[0])):\n",
    "        k=j\n",
    "            \n",
    "        flag=False\n",
    "        \n",
    "        #duyet tung dong cua cot do de kiem tra cot do co = 0 hay ko ?\n",
    "        for l in range(j,len(A)):\n",
    "            if A[l][i] != 0:\n",
    "                flag=True\n",
    "                \n",
    "        if flag == True:\n",
    "            if A[k][i] == 0:\n",
    "                for z in (k+1,len(A)):\n",
    "                    if A[z][i] != 0:\n",
    "                        temp=A[k]\n",
    "                        A[k]=A[z]\n",
    "                        A[z]=temp\n",
    "                        \n",
    "                        temp=B[k] #cua B\n",
    "                        B[k]=B[z] #cua B\n",
    "                        B[z]=temp #cua B\n",
    "                        break\n",
    "            d=(1/A[k][i])\n",
    "            for m in range(0,len(A[0])):\n",
    "                A[k][m]=A[k][m]*d\n",
    "                B[k][m]=B[k][m]*d #cua B\n",
    "            \n",
    "            for k1 in range (0,len(A)):\n",
    "                if k1==i:\n",
    "                    continue\n",
    "                d=-A[k1][i]/A[k][i]\n",
    "                for m in range(0,len(A[0])):\n",
    "                    A[k1][m]=round(A[k1][m]+d*A[k][m],3) \n",
    "                    B[k1][m]=round(B[k1][m]+d*B[k][m],3) #cua B\n",
    "            j=j+1\n",
    "        else:\n",
    "            print(\"Ma tran khong kha nghich\")\n",
    "            return\n",
    "    return B\n",
    "\n",
    "def multi_matrix(A,B):\n",
    "    if(len(A[0])!=len(B)):\n",
    "        print(\"Khong the nhan hai ma tran\")\n",
    "        return None\n",
    "    C=[]\n",
    "    temp=[]\n",
    "    ans=0\n",
    "    for i in range(len(A)):\n",
    "        temp=[]\n",
    "        for j in range(len(B[0])):\n",
    "            ans=0\n",
    "            for k in range(len(A[0])):\n",
    "                ans=ans+A[i][k] * B[k][j]\n",
    "            temp.append(round(ans,3))\n",
    "        C.append(temp)\n",
    "    return C\n",
    "\n",
    "def new_matrix(a,i):\n",
    "    arr = copy.deepcopy(a)\n",
    "    if len(arr) == 2:\n",
    "        return arr\n",
    "    else:\n",
    "        arr.pop(0) #bo dong 0\n",
    "        for j in arr: #bo cot i\n",
    "            j.pop(i)\n",
    "        return arr\n",
    "    \n",
    "def determinant(A):\n",
    "    if len(A) != len(A[0]):\n",
    "        return 0\n",
    "    if len(A) == 1:\n",
    "        pro = A[0]\n",
    "        return pro\n",
    "    elif len(A) == 2:\n",
    "        pro = A[0][0]*A[1][1] - A[1][0]*A[0][1]\n",
    "        return pro\n",
    "        \n",
    "    else:\n",
    "        pro = 0\n",
    "        for i in range(len(A[0])): #tinh dinh thuc theo dong 0\n",
    "            pro += ((-1)**i)*A[0][i]*determinant(new_matrix(A,i))    \n",
    "        return pro   \n",
    "    \n",
    "def diagonal_mat(A):\n",
    "    \n",
    "    Atemp=copy.deepcopy(A)\n",
    "    \n",
    "    if len(A) != len(A[0]):\n",
    "        print(\"Ma tran input khong vuong, khong the cheo hoa!\");\n",
    "        return None,None,None\n",
    "    x=sp.symbols('x')\n",
    "    for i in range(len(A)):\n",
    "        A[i][i]=A[i][i]-x\n",
    "    det=determinant(A)\n",
    "    eq1 = sp.Eq(det,0)\n",
    "    sol = sp.solve(eq1)\n",
    "    \n",
    "    temp=[]\n",
    "    \n",
    "    for i in range(len(sol)):\n",
    "        if(sp.im(sol[i])!=0): #neu la nghiem ao -> skip\n",
    "            continue\n",
    "        A1=copy.deepcopy(Atemp)        \n",
    "        for j in range(len(A1)):\n",
    "            A1[j][j]=A1[j][j]-sol[i]\n",
    "        A1=sp.Matrix(A1)\n",
    "        tempA1=A1.nullspace()\n",
    "        \n",
    "        tempans=[]\n",
    "        for k in range(len(tempA1)):\n",
    "            tempNS=tempA1[k].tolist()\n",
    "            tempans=[]\n",
    "            for l in range(len(tempNS)):\n",
    "                tempans.append(tempNS[l][0])\n",
    "            temp.append(copy.deepcopy(tempans))        \n",
    "        \n",
    "    if len(temp) != len(A):\n",
    "        print(\"Khong the cheo hoa ma tran\")\n",
    "        return None,None,None\n",
    "    P=[]\n",
    "    for i in range(len(temp[0])):\n",
    "        temp1=[]\n",
    "        for j in range(len(temp)):\n",
    "            temp1.append(temp[j][i])\n",
    "        P.append(temp1)\n",
    "        \n",
    "    Ptemp=copy.deepcopy(P)\n",
    "    P1=inverse(Ptemp)\n",
    "    \n",
    "    Ptemp2=multi_matrix(P1,Atemp)\n",
    "    D=multi_matrix(Ptemp2,P)\n",
    "    \n",
    "    return P,D,P1\n",
    "\n",
    "def print_ans(A):\n",
    "    \n",
    "    print(\"A:\")\n",
    "    print_matrix(A)\n",
    "    \n",
    "    P,D,P1=diagonal_mat(A)\n",
    "    if P==None:\n",
    "        return\n",
    "    print(\"P:\")\n",
    "    print_matrix(P)\n",
    "    print(\"D:\")\n",
    "    print_matrix(D)\n",
    "    print(\"P^(-1):\")\n",
    "    print_matrix(P1)\n",
    "    \n",
    "    Ptemp=multi_matrix(P,D)\n",
    "    B=multi_matrix(Ptemp,P1)\n",
    "    \n",
    "    print(\"P*D*P^(-1) = A:\")\n",
    "    print_matrix(B)\n",
    "    return\n",
    "\n",
    "    \n",
    "print(\"----- test case 0 -----\")\n",
    "A=[[1,-1,-1],[1,3,1],[-3,1,-1]]\n",
    "print_ans(A)\n",
    "\n",
    "print(\"----- test case 1 -----\")\n",
    "A=[[1,-3,3],[3,-5,3],[6,-6,4]]\n",
    "print_ans(A)\n",
    "\n",
    "print(\"----- test case 2 -----\")\n",
    "A=[[3,3,2],[1,1,-2],[-3,-1,0]]\n",
    "print_ans(A)"
   ]
  },
  {
   "cell_type": "markdown",
   "id": "d55d7008-3efd-4ef2-a394-2732112a46f5",
   "metadata": {},
   "source": [
    "## Mở rộng: Tìm hiểu các hàm/ phương thức tương ứng của các thư viện và thực hiện nó, so sánh kết quả."
   ]
  },
  {
   "cell_type": "code",
   "execution_count": 7,
   "id": "7e5ff695",
   "metadata": {},
   "outputs": [
    {
     "name": "stdout",
     "output_type": "stream",
     "text": [
      "----- test case 0 -----\n",
      "A: \n"
     ]
    },
    {
     "data": {
      "text/latex": [
       "$\\displaystyle \\left[\\begin{matrix}1 & -1 & -1\\\\1 & 3 & 1\\\\-3 & 1 & -1\\end{matrix}\\right]$"
      ],
      "text/plain": [
       "Matrix([\n",
       "[ 1, -1, -1],\n",
       "[ 1,  3,  1],\n",
       "[-3,  1, -1]])"
      ]
     },
     "metadata": {},
     "output_type": "display_data"
    },
    {
     "name": "stdout",
     "output_type": "stream",
     "text": [
      "P: \n"
     ]
    },
    {
     "data": {
      "text/latex": [
       "$\\displaystyle \\left[\\begin{matrix}1 & -1 & -1\\\\-1 & 0 & 1\\\\4 & 1 & 1\\end{matrix}\\right]$"
      ],
      "text/plain": [
       "Matrix([\n",
       "[ 1, -1, -1],\n",
       "[-1,  0,  1],\n",
       "[ 4,  1,  1]])"
      ]
     },
     "metadata": {},
     "output_type": "display_data"
    },
    {
     "name": "stdout",
     "output_type": "stream",
     "text": [
      "D: \n"
     ]
    },
    {
     "data": {
      "text/latex": [
       "$\\displaystyle \\left[\\begin{matrix}-2 & 0 & 0\\\\0 & 2 & 0\\\\0 & 0 & 3\\end{matrix}\\right]$"
      ],
      "text/plain": [
       "Matrix([\n",
       "[-2, 0, 0],\n",
       "[ 0, 2, 0],\n",
       "[ 0, 0, 3]])"
      ]
     },
     "metadata": {},
     "output_type": "display_data"
    },
    {
     "name": "stdout",
     "output_type": "stream",
     "text": [
      "P^(-1): \n"
     ]
    },
    {
     "data": {
      "text/latex": [
       "$\\displaystyle \\left[\\begin{matrix}\\frac{1}{5} & 0 & \\frac{1}{5}\\\\-1 & -1 & 0\\\\\\frac{1}{5} & 1 & \\frac{1}{5}\\end{matrix}\\right]$"
      ],
      "text/plain": [
       "Matrix([\n",
       "[1/5,  0, 1/5],\n",
       "[ -1, -1,   0],\n",
       "[1/5,  1, 1/5]])"
      ]
     },
     "metadata": {},
     "output_type": "display_data"
    },
    {
     "name": "stdout",
     "output_type": "stream",
     "text": [
      "P*D*P^(-1) = A: \n"
     ]
    },
    {
     "data": {
      "text/latex": [
       "$\\displaystyle \\left[\\begin{matrix}1 & -1 & -1\\\\1 & 3 & 1\\\\-3 & 1 & -1\\end{matrix}\\right]$"
      ],
      "text/plain": [
       "Matrix([\n",
       "[ 1, -1, -1],\n",
       "[ 1,  3,  1],\n",
       "[-3,  1, -1]])"
      ]
     },
     "metadata": {},
     "output_type": "display_data"
    },
    {
     "name": "stdout",
     "output_type": "stream",
     "text": [
      "\n",
      "\n",
      "----- test case 1 -----\n",
      "A: \n"
     ]
    },
    {
     "data": {
      "text/latex": [
       "$\\displaystyle \\left[\\begin{matrix}1 & -3 & 3\\\\3 & -5 & 3\\\\6 & -6 & 4\\end{matrix}\\right]$"
      ],
      "text/plain": [
       "Matrix([\n",
       "[1, -3, 3],\n",
       "[3, -5, 3],\n",
       "[6, -6, 4]])"
      ]
     },
     "metadata": {},
     "output_type": "display_data"
    },
    {
     "name": "stdout",
     "output_type": "stream",
     "text": [
      "P: \n"
     ]
    },
    {
     "data": {
      "text/latex": [
       "$\\displaystyle \\left[\\begin{matrix}1 & -1 & 1\\\\1 & 0 & 1\\\\0 & 1 & 2\\end{matrix}\\right]$"
      ],
      "text/plain": [
       "Matrix([\n",
       "[1, -1, 1],\n",
       "[1,  0, 1],\n",
       "[0,  1, 2]])"
      ]
     },
     "metadata": {},
     "output_type": "display_data"
    },
    {
     "name": "stdout",
     "output_type": "stream",
     "text": [
      "D: \n"
     ]
    },
    {
     "data": {
      "text/latex": [
       "$\\displaystyle \\left[\\begin{matrix}-2 & 0 & 0\\\\0 & -2 & 0\\\\0 & 0 & 4\\end{matrix}\\right]$"
      ],
      "text/plain": [
       "Matrix([\n",
       "[-2,  0, 0],\n",
       "[ 0, -2, 0],\n",
       "[ 0,  0, 4]])"
      ]
     },
     "metadata": {},
     "output_type": "display_data"
    },
    {
     "name": "stdout",
     "output_type": "stream",
     "text": [
      "P^(-1): \n"
     ]
    },
    {
     "data": {
      "text/latex": [
       "$\\displaystyle \\left[\\begin{matrix}- \\frac{1}{2} & \\frac{3}{2} & - \\frac{1}{2}\\\\-1 & 1 & 0\\\\\\frac{1}{2} & - \\frac{1}{2} & \\frac{1}{2}\\end{matrix}\\right]$"
      ],
      "text/plain": [
       "Matrix([\n",
       "[-1/2,  3/2, -1/2],\n",
       "[  -1,    1,    0],\n",
       "[ 1/2, -1/2,  1/2]])"
      ]
     },
     "metadata": {},
     "output_type": "display_data"
    },
    {
     "name": "stdout",
     "output_type": "stream",
     "text": [
      "P*D*P^(-1) = A: \n"
     ]
    },
    {
     "data": {
      "text/latex": [
       "$\\displaystyle \\left[\\begin{matrix}1 & -3 & 3\\\\3 & -5 & 3\\\\6 & -6 & 4\\end{matrix}\\right]$"
      ],
      "text/plain": [
       "Matrix([\n",
       "[1, -3, 3],\n",
       "[3, -5, 3],\n",
       "[6, -6, 4]])"
      ]
     },
     "metadata": {},
     "output_type": "display_data"
    },
    {
     "name": "stdout",
     "output_type": "stream",
     "text": [
      "\n",
      "\n",
      "----- test case 2 -----\n",
      "A: \n"
     ]
    },
    {
     "data": {
      "text/latex": [
       "$\\displaystyle \\left[\\begin{matrix}3 & 3 & 2\\\\1 & 1 & -2\\\\-3 & -1 & 0\\end{matrix}\\right]$"
      ],
      "text/plain": [
       "Matrix([\n",
       "[ 3,  3,  2],\n",
       "[ 1,  1, -2],\n",
       "[-3, -1,  0]])"
      ]
     },
     "metadata": {},
     "output_type": "display_data"
    },
    {
     "name": "stdout",
     "output_type": "stream",
     "text": [
      "P: \n"
     ]
    },
    {
     "data": {
      "text/latex": [
       "$\\displaystyle \\left[\\begin{matrix}-1 & i & - i\\\\-1 & - i & i\\\\1 & 1 & 1\\end{matrix}\\right]$"
      ],
      "text/plain": [
       "Matrix([\n",
       "[-1,  I, -I],\n",
       "[-1, -I,  I],\n",
       "[ 1,  1,  1]])"
      ]
     },
     "metadata": {},
     "output_type": "display_data"
    },
    {
     "name": "stdout",
     "output_type": "stream",
     "text": [
      "D: \n"
     ]
    },
    {
     "data": {
      "text/latex": [
       "$\\displaystyle \\left[\\begin{matrix}4 & 0 & 0\\\\0 & - 2 i & 0\\\\0 & 0 & 2 i\\end{matrix}\\right]$"
      ],
      "text/plain": [
       "Matrix([\n",
       "[4,    0,   0],\n",
       "[0, -2*I,   0],\n",
       "[0,    0, 2*I]])"
      ]
     },
     "metadata": {},
     "output_type": "display_data"
    },
    {
     "name": "stdout",
     "output_type": "stream",
     "text": [
      "P^(-1): \n"
     ]
    },
    {
     "data": {
      "text/latex": [
       "$\\displaystyle \\left[\\begin{matrix}- \\frac{1}{2} & - \\frac{1}{2} & 0\\\\\\frac{1}{4} - \\frac{i}{4} & \\frac{1}{4} + \\frac{i}{4} & \\frac{1}{2}\\\\\\frac{1}{4} + \\frac{i}{4} & \\frac{1}{4} - \\frac{i}{4} & \\frac{1}{2}\\end{matrix}\\right]$"
      ],
      "text/plain": [
       "Matrix([\n",
       "[     -1/2,      -1/2,   0],\n",
       "[1/4 - I/4, 1/4 + I/4, 1/2],\n",
       "[1/4 + I/4, 1/4 - I/4, 1/2]])"
      ]
     },
     "metadata": {},
     "output_type": "display_data"
    },
    {
     "name": "stdout",
     "output_type": "stream",
     "text": [
      "P*D*P^(-1) = A: \n"
     ]
    },
    {
     "data": {
      "text/latex": [
       "$\\displaystyle \\left[\\begin{matrix}3 & 3 & 2\\\\1 & 1 & -2\\\\-2 - 2 i \\left(\\frac{1}{4} - \\frac{i}{4}\\right) + 2 i \\left(\\frac{1}{4} + \\frac{i}{4}\\right) & -2 - 2 i \\left(\\frac{1}{4} + \\frac{i}{4}\\right) + 2 i \\left(\\frac{1}{4} - \\frac{i}{4}\\right) & 0\\end{matrix}\\right]$"
      ],
      "text/plain": [
       "Matrix([\n",
       "[                                     3,                                      3,  2],\n",
       "[                                     1,                                      1, -2],\n",
       "[-2 - 2*I*(1/4 - I/4) + 2*I*(1/4 + I/4), -2 - 2*I*(1/4 + I/4) + 2*I*(1/4 - I/4),  0]])"
      ]
     },
     "metadata": {},
     "output_type": "display_data"
    },
    {
     "name": "stdout",
     "output_type": "stream",
     "text": [
      "\n",
      "\n"
     ]
    }
   ],
   "source": [
    "import sympy as sp\n",
    "\n",
    "def print_ans_lib(A):\n",
    "    print(\"A: \")\n",
    "    display(A)\n",
    "\n",
    "    P,D=A.diagonalize()\n",
    "\n",
    "    print(\"P: \")\n",
    "    display(P)\n",
    "\n",
    "    print(\"D: \")\n",
    "    display(D)\n",
    "\n",
    "    P1=P.inv()\n",
    "\n",
    "    print(\"P^(-1): \")\n",
    "    display(P1)\n",
    "\n",
    "    print(\"P*D*P^(-1) = A: \")\n",
    "    display(P*D*P1)\n",
    "\n",
    "    print(\"\\n\")\n",
    "    return\n",
    "    \n",
    "print(\"----- test case 0 -----\")\n",
    "    \n",
    "A=sp.Matrix([[1,-1,-1],[1,3,1],[-3,1,-1]])\n",
    "print_ans_lib(A)\n",
    "\n",
    "print(\"----- test case 1 -----\")\n",
    "A=sp.Matrix([[1,-3,3],[3,-5,3],[6,-6,4]])\n",
    "print_ans_lib(A)\n",
    "\n",
    "print(\"----- test case 2 -----\")\n",
    "\n",
    "A=sp.Matrix([[3,3,2],[1,1,-2],[-3,-1,0]])\n",
    "print_ans_lib(A)"
   ]
  },
  {
   "cell_type": "markdown",
   "id": "02fb180e",
   "metadata": {},
   "source": [
    "#### Nhận xét:\n",
    "\n",
    "**Đối với hàm diagonalize của thư viện sympy:**\n",
    "- Đối với trường hợp ma trận $A$ có thể chéo hóa được, hàm diagonalize của thư viện sympy trả về ma trận làm chéo $P$ và ma trận đường chéo $D$, ta tìm $P^{-1}$ bằng hàm inv của thư viện sympy. Khi thực hiện $PDP^{-1}$ ta thấy kết quả rõ ràng $PDP^{-1} = A$.\n",
    "- Đối với trường hợp ma trận $A$ không thể chéo hóa được, hàm diagonalize của thư viện sympy vẫn tiếp tục thực hiện công việc của mình mà không thông báo lỗi và trả về ma trận làm chéo $P$ và ma trận đường chéo $D$, ta tìm $P^{-1}$ bằng hàm inv của thư viện sympy. Tuy nhiên, khi thực hiện $PDP^{-1}$ ta thấy kết quả rõ ràng $PDP^{-1}$ không bằng $A$.\n",
    "\n",
    "**Đối với hàm diagonal_mat tự định nghĩa:**\n",
    "- Đối với trường hợp ma trận $A$ có thể chéo hóa được, hàm diagonal_mat trả về ma trận làm chéo $P$, ma trận đường chéo $D$ và ma trận $P^{-1}$. Khi thực hiện $PDP^{-1}$ ta thấy kết quả rõ ràng $PDP^{-1} = A$.\n",
    "- Đối với trường hợp ma trận $A$ không thể chéo hóa được, hàm diagonal_mat thông báo lỗi, trả về ba giá trị $None$ thay cho ma trận làm chéo $P$, ma trận đường chéo $D$ và ma trận $P^{-1}$ rồi ngưng hàm.\n",
    "\n",
    "**Nhận xét, so sánh kết quả:**\n",
    "- Đối với trường hợp ma trận $A$ có thể chéo hóa được, hàm diagonalize của thư viện sympy chỉ trả về ma trận làm chéo $P$ và ma trận đường chéo $D$, còn hàm diagonal_mat tự định nghĩa trả về ma trận làm chéo $P$, ma trận đường chéo $D$ và cả ma trận $P^{-1}$. Tuy nhiên, khi thực hiện $PDP^{-1}$ thì hai hàm đều cho ra kết quả giống nhau và $PDP^{-1} = A$.\n",
    "- Đối với trường hợp ma trận $A$ không thể chéo hóa được, hàm diagonalize của thư viện sympy vẫn tiếp tục thực hiện công việc của mình mà không thông báo lỗi và trả về ma trận làm chéo $P$ và ma trận đường chéo $D$, tuy nhiên khi thực hiện $PDP^{-1}$ thì $PDP^{-1}$ không bằng $A$ nên hàm này sẽ sai khi ma trận $A$ không thể chéo hóa được. Còn hàm diagonal_mat thông báo lỗi, trả về ba giá trị $None$ khi ma trận $A$ không thể chéo hóa được."
   ]
  },
  {
   "cell_type": "markdown",
   "id": "e777094b",
   "metadata": {},
   "source": [
    "## Mở rộng: Tìm hiểu và trình bày ứng dụng của chéo hóa\n",
    "Một số ứng dụng của chéo hóa ma trận như sau:\n",
    "\n",
    "**1) Tìm trị riêng và vector riêng:** trị riêng và vector riêng của một ma trận có thể được sử dụng để xác định xem một ma trận có thể chéo hóa hay không. Nếu một ma trận có n vector riêng độc lập tuyến tính, thì nó có thể chéo hóa.\n",
    "\n",
    "**2) Biến đổi cơ sở:** Các ma trận chéo hóa có thể được sử dụng để biến đổi một cơ sở của không gian vector thành một cơ sở mới. Việc này hữu ích trong các ứng dụng khác nhau, bao gồm xử lý tín hiệu và nén ảnh.\n",
    "\n",
    "**3) Phương trình vi phân:** Các ma trận chéo hóa được sử dụng để giải các hệ phương trình vi phân tuyến tính. Giải pháp cho một hệ phương trình vi phân tuyến tính có thể được biểu diễn dưới dạng các vector riêng và giá trị riêng của ma trận tương ứng.\n",
    "\n",
    "**4) Lý thuyết điều khiển:** Các ma trận chéo hóa được sử dụng trong lý thuyết điều khiển để thiết kế hệ thống điều khiển phản hồi. Hình dạng đường chéo của một ma trận làm cho nó dễ dàng phân tích tính ổn định và hiệu suất của hệ thống.\n",
    "\n",
    "**5) Cơ học lượng tử:** Trong cơ học lượng tử, các ma trận chéo hóa được sử dụng để biểu diễn toán tử Hamiltonian, mô tả năng lượng của một hệ thống lượng tử. Các giá trị riêng và vector riêng của toán tử Hamiltonian được sử dụng để xác định các cấp năng lượng và hàm sóng của hệ thống.\n",
    "\n",
    "**6) Phân tích dữ liệu:** Trong phân tích dữ liệu, các ma trận đường chéo hóa được sử dụng trong phân tích thành phần chính (PCA), đó là một kỹ thuật được sử dụng để giảm chiều của một tập dữ liệu. PCA bao gồm tìm các vector riêng và giá trị riêng của ma trận hiệp phương sai của tập dữ liệu.\n",
    "\n",
    "**7) Tính lũy thừa của ma trận:** bằng việc chéo hóa một ma trận, việc tính lũy thừa một ma trận trở nên dễ dàng hơn, đặc biệt đối với yêu cầu lũy thừa lớn. Sau khi tìm được ma trận $P$ làm chéo $A$ và $D = P^{−1}AP$ là ma trận đường chéo, việc tính $A^n$ chỉ đơn giản là tính $PD^{n}P^{−1}$, mà $D$ là ma trận đường chéo nên chỉ cận thực hiện lũy thừa $n$ các phần tử trên đường chéo của ma trận $D$\n",
    "\n",
    "Tóm lại, ma trận chéo hóa có nhiều ứng dụng quan trọng trong các lĩnh vực khác nhau như toán học, vật lý, kỹ thuật và khoa học máy tính,..."
   ]
  },
  {
   "cell_type": "markdown",
   "id": "0b98736b",
   "metadata": {},
   "source": [
    "##  Mô tả ý tưởng thực hiện và mô tả các hàm"
   ]
  },
  {
   "cell_type": "markdown",
   "id": "c088b780",
   "metadata": {},
   "source": [
    "**1) Một số thư viện hỗ trợ:** trong đồ án này có dùng một số hàm của các thư viện copy và sympy để hỗ trợ các chức năng không chủ yếu trong quá trình thực hiện đồ án.\n",
    "- Thư viện copy:\n",
    "    + Hàm deepcopy: tạo ra bản sao các ma trận, các vector,..\n",
    "- Thư viện sympy:\n",
    "    + Hàm symbols: dùng để đưa biến x vào phương trình đặc trưng để giải\n",
    "    + Hàm Eq: đưa đa thức đặc trưng về phương trình đặc trưng để dùng thư viện sympy để giải phương trình này\n",
    "    + Hàm solve: giải phương trình đặc trưng và trả về các nghiệm\n",
    "    + Hàm im: phần ảo của các nghiệm sau khi giải phương trình đặc trưng, nếu phần ảo khác 0 thì đó là nghiệm phức\n",
    "    + Hàm Matrix: tạo ma trận để dùng các thư viện hỗ trợ tìm vector riêng\n",
    "    + Hàm nullspace: hỗ trợ tìm vector riêng\n",
    "    + Hàm tolist(): chuyển Matrix sang list\n",
    "\n",
    "**2) Hàm print_matrix:** input là một ma trận, in ra ma trận đó\n",
    "\n",
    "**3) Hàm create_identity_matrix:** input là số nguyên n, tạo ra ma trận đơn vị cấp n\n",
    "\n",
    "**4) Hàm inverse:** input là một ma trận A, tìm và trả về ma trận nghịch đảo của ma trận A\n",
    "- B1: Đầu tiên, kiểm tra ma trận truyền vào có vuông hay không, nếu không vuông thì ngưng hàm\n",
    "- B2: Nếu ma trận input là ma trận vuông cấp n, tiến hành khởi tạo một ma trận đơn vị B cấp n bằng hàm create_identity_matrix\n",
    "- B3: Duyệt qua từng cột của ma trận input, nếu cột đang xét có phần tử nằm từ đường chéo chính trở xuống đều bằng 0 thì ngưng hàm, thông báo ma trận không khả nghịch, ngược lại thì thực hiện các bước sau:\n",
    "    + Kiểm tra nếu phần tử nằm trên đường chéo chính bằng không thì hoán vị dòng chứa phần tử này với dòng có phần tử ở cột tương ứng khác 0 gần nhất với dòng đang xét. Việc này được thực hiện cùng lúc ở ma trận input và ma trận đơn vị B đã tạo ra trước đó.\n",
    "    + Nhân dòng đang xét của ma trận input và dòng tương ứng của ma trận đơn vị B với 1/(phần tử ở đường chéo chính của ma trận input).\n",
    "    + Cộng các dòng còn lại của ma trận input và cả ma trận đơn vị B (trừ dòng chứa phần tử nằm trên đường chéo chính) với một số thích hợp để biến các phần tử ở cột đang xét của ma trận input đều bằng 0.\n",
    "    + Lặp lại B3\n",
    "- B4: Ma trận đơn vị B được tạo ra ở B2 sau khi thực hiện cả 3 bước trên sẽ là ma trận nghịch đảo của ma trận input, hàm sẽ trả về ma trận B\n",
    "\n",
    "**5) Hàm multi_matrix:** hàm nhân hai ma trận, với input là ma trận A và B, nếu số cột của A khác số dòng của B thì kết thúc hàm (không thể nhân). Ngược lại, thực hiện 3 vòng for lồng nhau để nhân ma trận và trả về ma trận sau khi nhân A và B.\n",
    "\n",
    "**6) Hàm new_matrix:** input là ma trận vuông A và số nguyên i. Nếu A là ma trận vuông cấp 2 thì không làm gì cả và trả về ma trận A, ngược lại hàm tạo ra một ma trận mới bỏ đi dòng 0 và cột i và trả về ma trận này (hàm hỗ trợ tìm định thức của ma trận trong hàm determinant).\n",
    "\n",
    "**7) Hàm determinant:** hàm tính định thức của ma trận\n",
    "- Input: ma trận vuông A cấp n\n",
    "- B1: Đàu tiên, kiểm tra ma trận A có là ma trận vuông hay không, nếu không thì trả về số nguyên 0 và ngưng hàm, ngược lại thì tiếp tục sang B2\n",
    "- B2: Nếu A là ma trận vuông cấp 1, trả về A[0][0] là chính định thức của ma trận và ngưng hàm, ngược lại thì tiếp tục sang B3\n",
    "- B3: Nếu A là ma trận vuông cấp 2, trả về A[0][0] * A[1][1] - A[1][0] * A[0][1] là định thức của ma trận và ngưng hàm, ngược lại thì tiếp tục sang B4\n",
    "- B4: Dùng công thức $\\sum_{k=0}^{n-1} a_{0k}C_{0k} (1)$ để tính định thức theo dòng 0, cộng dồn vào biến pro. Ý tưởng thực hiện: cho một vòng for i duyệt qua các cột của ma trận, gọi đệ quy hàm determinant với ma trận input mỗi lần gọi là ma trận hiện tại bỏ dòng 0 cột i hoặc chính ma trận hiện tại nếu đang là ma trận vuông cấp 2 (dùng hàm new_matrix) nhân với $-1^{0+i} * A[0][i]$ theo đúng công thức $(1)$ và trả về pro là định thức của ma trận\n",
    "\n",
    "**8) Hàm diagonal_mat:** input là ma trận vuông A cấp n, hàm tìm và trả về ma trận làm chéo $P$, ma trận đường chéo $D$ và ma trận $P^{-1}$.\n",
    "- B1: Đầu tiên dùng hàm copy.deepcopy tạo một bản sao của A và lưu vào Atemp (có thêm tài nguyên để tính toán), kiểm tra ma trận có vuông hay không, nếu ma trận không vuông thì trả về 3 giá trị None và ngưng hàm, ngược lại sang B2\n",
    "- B2: Khởi tạo biến x bằng hàm sympy.symbol để đưa vào đa thức đặc trưng (biến x đại diện cho $λ$)\n",
    "- B3: Dùng vòng for xây dựng ma trận $A − xI_n$ và lưu vào A\n",
    "- B4: Tính định thức ma trận A bằng hàm determinant và lưu vào det\n",
    "- B5: Chuyển det thành phương trình đặc trưng bằng hàm sympy.Eq và lưu vào eq1\n",
    "- B6: Giải phương trình eq1 bằng hàm sympy.solve và lưu các nghiệm vào sol\n",
    "- B7: Chạy vòng for xét từng nghiệm trong sol, với mỗi nghiệm dùng hàm sympy.im để tìm phần ảo của nghiệm, nếu phần ảo khác 0 thì là nghiệm phức, ta không làm gì cả và tiếp tục tăng biến đếm vòng for (continue), ngược lại thực hiện các bước sau:\n",
    "    + B7.1: Tạo ra một bản copy của Atemp bằng hàm copy.deepcopy (do A ban đầu đã bị thay đổi do đã đưa biến x vào ma trận để tính định thức) và lưu vào A1\n",
    "    + B7.2: Với nghiệm $x_i$ đang xét dùng vòng for để xây dựng ma trận $A1 − x_iI_n$ và lưu vào A1. Sau đó chuyển A sang dạng sympy.Matrix\n",
    "    + B7.3: Với $x_i$, tìm các vector riêng của $(A − x_iI_n) X = 0$ bằng hàm sympy.Matrix.nullspace, sau đó chuyển các vector riêng này từ kiểu sympy.Matrix sang list bằng sympy.Matrix.tolist (tiện hơn cho việc tính toán về sau)\n",
    "- B8: Kiểm tra nếu số lượng vector riêng khác cấp n của ma trận input thì trả về 3 giá trị None và ngưng hàm, ngược lại sang B9\n",
    "- B9: Tạo ma trận làm chéo $P$ là ma trận có được bằng cách dựng các vector riêng thành các cột và đưa vào $P$.\n",
    "- B10: Sao chép $P$ và lưu vào Ptemp bằng hàm copy.deepcopy. Tìm $P^{-1}$ bằng hàm inverse và lưu vào $P1$\n",
    "- B11: Tìm ma trận đường chéo D bằng cách nhân $P1 * Atemp * P$ Đầu tiên thực hiện nhân $P1 * Atemp$ bằng hàm multi_matrix và lưu vào $Ptemp2$, sau đó thực hiện nhân $Ptemp2 * P$ bằng hàm multi_matrix và lưu vào D\n",
    "- B12: Trả về $P, D, P1$ tương ứng với ma trận làm chéo $P$, ma trận đường chéo $D$ và ma trận $P^{-1}$\n",
    "\n",
    "**8) Hàm print_ans:** hàm in kết quả test chương trình chính (chương trình dùng hàm diagonal_mat), input là ma trận A\n",
    "- B1: In ra ma trận A bằng hàm print_matrix\n",
    "- B2: Tìm ma trận làm chéo $P$, ma trận đường chéo $D$ và ma trận $P^{-1}$ bằng hàm diagonal_mat\n",
    "- B3: Nếu sau khi thực hiện hàm diagonal_mat mà $P = None$ nghĩa là ma trận A không chéo hóa được và ngưng hàm, ngược lại chuyển sang B4\n",
    "- B4: In ra ma trận $P, D, P^{-1}$ sau khi thực hiện hàm diagonal_mat (in bằng hàm print_matrix)\n",
    "- B5: Thực hiện tính và in ra $PDP^{-1}$ bằng các hàm multi_matrix (tính $P * D$ trước và lưu vào $Ptemp$, sau đó tính $Ptemp * P^{-1}$) và print_matrix để kiểm tra $PDP^{-1} = A$.\n",
    "\n",
    "**8) Hàm print_ans_lib:** hàm in kết quả test chương trình mở rộng (chương trình dùng hàm sympy.Matrix.diagonalize), input là ma trận A kiểu sympy.Matrix\n",
    "- B1: In ra ma trận A bằng hàm display\n",
    "- B2: Tìm ma trận làm chéo $P$ và ma trận đường chéo $D$ bằng hàm sympy.Matrix.diagonalize, in ra màn hình $P$ và $D$ bằng hàm display\n",
    "- B3: Tìm $P^{-1}$ bằng hàm sympy.Matrix.inv và in ra màn hình $P^{-1}$ bằng hàm display\n",
    "- B4: Tính và in ra màn hình $PDP^{-1}$ bằng toán tử $*$ và hàm display để kiểm tra $PDP^{-1} = A$."
   ]
  },
  {
   "cell_type": "code",
   "execution_count": null,
   "id": "6104b8b1",
   "metadata": {},
   "outputs": [],
   "source": []
  }
 ],
 "metadata": {
  "kernelspec": {
   "display_name": "Python 3 (ipykernel)",
   "language": "python",
   "name": "python3"
  },
  "language_info": {
   "codemirror_mode": {
    "name": "ipython",
    "version": 3
   },
   "file_extension": ".py",
   "mimetype": "text/x-python",
   "name": "python",
   "nbconvert_exporter": "python",
   "pygments_lexer": "ipython3",
   "version": "3.9.13"
  }
 },
 "nbformat": 4,
 "nbformat_minor": 5
}
